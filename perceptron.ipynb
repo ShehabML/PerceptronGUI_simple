{
 "cells": [
  {
   "cell_type": "markdown",
   "id": "3b5725ed",
   "metadata": {},
   "source": [
    "# Q1\n"
   ]
  },
  {
   "cell_type": "code",
   "execution_count": 1,
   "id": "982301e1",
   "metadata": {},
   "outputs": [],
   "source": [
    "import numpy as np"
   ]
  },
  {
   "cell_type": "code",
   "execution_count": 2,
   "id": "9be2762b",
   "metadata": {},
   "outputs": [],
   "source": [
    "X0,X1,X2 = 0.1 , 0.5 , 0.2\n",
    "W0 = 0.4\n",
    "W1= 0.3\n",
    "W2=0.6\n",
    "\n",
    "Threshold = 0.5\n",
    "X = np.array([X0,X1,X2])\n",
    "W = np.array([W0,W1,W2])\n",
    "\n"
   ]
  },
  {
   "cell_type": "code",
   "execution_count": 3,
   "id": "6e4908a2",
   "metadata": {},
   "outputs": [],
   "source": [
    "\n",
    "def perceptron ( X_values,W_values):\n",
    "    Y = X_values@W_values\n",
    "    if Y > Threshold:\n",
    "        print (Y, ', value is Postive' )\n",
    "    else: \n",
    "        print (Y, ', value is Negative')\n",
    "    \n"
   ]
  },
  {
   "cell_type": "code",
   "execution_count": 4,
   "id": "3ec469d0",
   "metadata": {},
   "outputs": [
    {
     "name": "stdout",
     "output_type": "stream",
     "text": [
      "0.31 , value is Negative\n"
     ]
    }
   ],
   "source": [
    "perceptron ( X,W )"
   ]
  },
  {
   "cell_type": "markdown",
   "id": "34bdf0e5",
   "metadata": {},
   "source": [
    "# Q2\n"
   ]
  },
  {
   "cell_type": "code",
   "execution_count": 5,
   "id": "e4c399bb",
   "metadata": {},
   "outputs": [],
   "source": [
    "W0_ = 0.2\n",
    "W1_= 0.9\n",
    "W2_=0.1\n",
    "W = np.array([W0_,W1_,W2_])\n"
   ]
  },
  {
   "cell_type": "code",
   "execution_count": 6,
   "id": "aa4a055d",
   "metadata": {},
   "outputs": [
    {
     "name": "stdout",
     "output_type": "stream",
     "text": [
      "0.49 , value is Negative\n"
     ]
    }
   ],
   "source": [
    "perceptron ( X,W )"
   ]
  },
  {
   "cell_type": "markdown",
   "id": "de334874",
   "metadata": {},
   "source": [
    "# Q4\n"
   ]
  },
  {
   "cell_type": "code",
   "execution_count": 7,
   "id": "77b56f74",
   "metadata": {},
   "outputs": [],
   "source": [
    "import numpy as np\n",
    "import pandas as pd\n",
    "\n",
    "import matplotlib.pyplot as plt\n",
    "%matplotlib inline"
   ]
  },
  {
   "cell_type": "code",
   "execution_count": 8,
   "id": "1f60e830",
   "metadata": {},
   "outputs": [
    {
     "name": "stdout",
     "output_type": "stream",
     "text": [
      "(100, 2)\n",
      "(100,)\n"
     ]
    },
    {
     "data": {
      "text/plain": [
       "array([50, 50], dtype=int64)"
      ]
     },
     "execution_count": 8,
     "metadata": {},
     "output_type": "execute_result"
    }
   ],
   "source": [
    "data=pd.read_table('perceptron_toydata.txt',sep='\t',header=None)\n",
    "X_data=data.iloc[:,:-1].to_numpy()\n",
    "Y_data=data.iloc[:,-1].to_numpy()\n",
    "#importing data and seperating it to X and Y as Y r\n",
    "Y_data.shape = (-1,)\n",
    "print (np.shape(X_data))\n",
    "print (np.shape(Y_data))\n",
    "np.bincount(Y_data)\n",
    "\n",
    "\n"
   ]
  },
  {
   "cell_type": "code",
   "execution_count": 9,
   "id": "0a86c0c9",
   "metadata": {},
   "outputs": [],
   "source": [
    "# Shuffling data \n",
    "\n",
    "shuffle_idx = np.arange(Y_data.shape[0])\n",
    "shuffle_rng = np.random.RandomState(123)\n",
    "shuffle_rng.shuffle(shuffle_idx)\n",
    "\n",
    "X, Y = X_data[shuffle_idx], Y_data[shuffle_idx]\n",
    "\n",
    "\n",
    "\n"
   ]
  },
  {
   "cell_type": "code",
   "execution_count": 10,
   "id": "b75d0c01",
   "metadata": {},
   "outputs": [],
   "source": [
    "#Train/Test split\n",
    "\n",
    "X_train, X_test = X[shuffle_idx[:70]], X[shuffle_idx[70:]]\n",
    "y_train, y_test = Y[shuffle_idx[:70]], Y[shuffle_idx[70:]]\n",
    "\n"
   ]
  },
  {
   "cell_type": "code",
   "execution_count": 11,
   "id": "d02ae393",
   "metadata": {},
   "outputs": [],
   "source": [
    "# Normalizing data\n",
    "mu,sigma = X_train.mean(axis=0), X_train.std(axis=0)\n",
    "def Normalize( X ):\n",
    "    \n",
    "    X_norm = (X - mu) / sigma\n",
    "    \n",
    "    return X_norm\n"
   ]
  },
  {
   "cell_type": "code",
   "execution_count": 12,
   "id": "61047a0e",
   "metadata": {},
   "outputs": [
    {
     "data": {
      "image/png": "[encoded data removed]",
      "text/plain": [
       "<Figure size 432x288 with 1 Axes>"
      ]
     },
     "metadata": {
      "needs_background": "light"
     },
     "output_type": "display_data"
    }
   ],
   "source": [
    "X_train=Normalize( X_train)\n",
    "\n",
    "plt.scatter(X_train[y_train==0, 0], X_train[y_train==0, 1], label='class 0', marker='v')\n",
    "plt.scatter(X_train[y_train==1, 0], X_train[y_train==1, 1], label='class 1', marker='s')\n",
    "plt.title('Training set')\n",
    "plt.xlabel('1st feature ')\n",
    "plt.ylabel('2nd feature ')\n",
    "plt.xlim([-3, 3])\n",
    "plt.ylim([-3, 3])\n",
    "plt.legend()\n",
    "plt.show()\n",
    "\n",
    "\n"
   ]
  },
  {
   "cell_type": "code",
   "execution_count": 13,
   "id": "2116352e",
   "metadata": {},
   "outputs": [
    {
     "data": {
      "text/plain": [
       "<matplotlib.legend.Legend at 0x20c3826f700>"
      ]
     },
     "execution_count": 13,
     "metadata": {},
     "output_type": "execute_result"
    },
    {
     "data": {
      "image/png": "[encoded data removed]",
      "text/plain": [
       "<Figure size 432x288 with 1 Axes>"
      ]
     },
     "metadata": {
      "needs_background": "light"
     },
     "output_type": "display_data"
    }
   ],
   "source": [
    "X_test= Normalize(X_test)\n",
    "plt.scatter(X_test[y_test==0, 0], X_test[y_test==0, 1], label='class 0', marker='v')\n",
    "plt.scatter(X_test[y_test==1, 0], X_test[y_test==1, 1], label='class 1', marker='s')\n",
    "plt.title('Test set')\n",
    "plt.xlabel('1st feature')\n",
    "plt.ylabel('2nd feature ')\n",
    "plt.xlim([-3, 3])\n",
    "plt.ylim([-3, 3])\n",
    "plt.legend()\n"
   ]
  },
  {
   "cell_type": "code",
   "execution_count": 14,
   "id": "bc6a28fa",
   "metadata": {},
   "outputs": [],
   "source": [
    "class Perceptron():\n",
    "    def __init__(self, num_features):\n",
    "        self.num_features = num_features\n",
    "        self.weights = np.zeros((num_features, ), dtype=float)\n",
    "        self.bias = np.zeros(1, dtype=float)\n",
    "\n",
    "    def forward(self, x):\n",
    "        linear = (x@ self.weights) + self.bias # comp. net input\n",
    "        predictions = np.where(linear > 0., 1, 0)\n",
    "        return predictions\n",
    "        \n",
    "    def backward(self, x, y):  \n",
    "        predictions = self.forward(x)\n",
    "        errors = y - predictions\n",
    "        return errors\n",
    "        \n",
    "    def train(self, x, y, periods):\n",
    "        for e in range(periods):\n",
    "            \n",
    "            for i in range(y.shape[0]):\n",
    "                errors = self.backward(x[i].reshape(1, self.num_features), y[i])\n",
    "                self.weights += (errors * x[i])\n",
    "                self.bias += errors\n",
    "                \n",
    "    def evaluate(self, x, y):\n",
    "        predictions = self.forward(x)\n",
    "        accuracy = np.sum(predictions == y) / y.shape[0]\n",
    "        return accuracy"
   ]
  },
  {
   "cell_type": "code",
   "execution_count": 15,
   "id": "5fc76fec",
   "metadata": {},
   "outputs": [
    {
     "name": "stdout",
     "output_type": "stream",
     "text": [
      "Model parameters:\n",
      "\n",
      "\n",
      "  Weights: [1.27340847 1.34642288]\n",
      "\n",
      "  Bias: [-1.]\n",
      "\n"
     ]
    }
   ],
   "source": [
    "ppn = Perceptron(num_features=2)\n",
    "\n",
    "\n",
    "\n",
    "\n",
    "ppn.train(X_train, y_train, periods=5)\n",
    "\n",
    "print('Model parameters:\\n\\n')\n",
    "print('  Weights: %s\\n' % ppn.weights)\n",
    "print('  Bias: %s\\n' % ppn.bias)"
   ]
  },
  {
   "cell_type": "code",
   "execution_count": 16,
   "id": "59a20e6d",
   "metadata": {},
   "outputs": [
    {
     "name": "stdout",
     "output_type": "stream",
     "text": [
      "Train set accuracy: 100.00%\n"
     ]
    }
   ],
   "source": [
    "train_acc = ppn.evaluate(X_train, y_train)\n",
    "print('Train set accuracy: %.2f%%' % (train_acc*100))"
   ]
  },
  {
   "cell_type": "code",
   "execution_count": 17,
   "id": "f02a560b",
   "metadata": {},
   "outputs": [
    {
     "name": "stdout",
     "output_type": "stream",
     "text": [
      "Test set accuracy: 93.33%\n"
     ]
    }
   ],
   "source": [
    "test_acc = ppn.evaluate(X_test, y_test)\n",
    "print('Test set accuracy: %.2f%%' % (test_acc*100))"
   ]
  },
  {
   "cell_type": "code",
   "execution_count": 18,
   "id": "48e649b2",
   "metadata": {},
   "outputs": [
    {
     "data": {
      "image/png": "[encoded data removed]",
      "text/plain": [
       "<Figure size 576x216 with 2 Axes>"
      ]
     },
     "metadata": {
      "needs_background": "light"
     },
     "output_type": "display_data"
    }
   ],
   "source": [
    "##########################\n",
    "### 2D Decision Boundary\n",
    "##########################\n",
    "\n",
    "w, b = ppn.weights, ppn.bias\n",
    "\n",
    "x0_min = -2\n",
    "x1_min = ( (-(w[0] * x0_min) - b[0]) \n",
    "          / w[1] )\n",
    "\n",
    "x0_max = 2\n",
    "x1_max = ( (-(w[0] * x0_max) - b[0]) \n",
    "          / w[1] )\n",
    "\n",
    "# x0*w0 + x1*w1 + b = 0\n",
    "# x1  = (-x0*w0 - b) / w1\n",
    "\n",
    "\n",
    "fig, ax = plt.subplots(1, 2, sharex=True, figsize=(8, 3))\n",
    "\n",
    "ax[0].plot([x0_min, x0_max], [x1_min, x1_max])\n",
    "ax[0].scatter(X_train[y_train==0, 0], X_train[y_train==0, 1], label='class 0', marker='v')\n",
    "ax[0].scatter(X_train[y_train==1, 0], X_train[y_train==1, 1], label='class 1', marker='s')\n",
    "\n",
    "ax[1].plot([x0_min, x0_max], [x1_min, x1_max])\n",
    "ax[1].scatter(X_test[y_test==0, 0], X_test[y_test==0, 1], label='class 0', marker='v')\n",
    "ax[1].scatter(X_test[y_test==1, 0], X_test[y_test==1, 1], label='class 1', marker='s')\n",
    "\n",
    "ax[1].legend(loc='upper left')\n",
    "plt.show()"
   ]
  },
  {
   "cell_type": "code",
   "execution_count": null,
   "id": "055a14ff",
   "metadata": {},
   "outputs": [],
   "source": []
  }
 ],
 "metadata": {
  "kernelspec": {
   "display_name": "Python 3 (ipykernel)",
   "language": "python",
   "name": "python3"
  },
  "language_info": {
   "codemirror_mode": {
    "name": "ipython",
    "version": 3
   },
   "file_extension": ".py",
   "mimetype": "text/x-python",
   "name": "python",
   "nbconvert_exporter": "python",
   "pygments_lexer": "ipython3",
   "version": "3.9.7"
  }
 },
 "nbformat": 4,
 "nbformat_minor": 5
}
