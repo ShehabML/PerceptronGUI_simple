{
 "cells": [
  {
   "cell_type": "code",
   "execution_count": 10,
   "id": "d378d56c",
   "metadata": {},
   "outputs": [],
   "source": [
    "import numpy as np\n"
   ]
  },
  {
   "cell_type": "code",
   "execution_count": 11,
   "id": "660c0300",
   "metadata": {},
   "outputs": [],
   "source": [
    "def perceptron ( X_values,W_values):\n",
    "    Y = X_values@W_values\n",
    "    if Y > Threshold:\n",
    "        print (Y, ', value is Postive' )\n",
    "    else: \n",
    "        print (Y, ', value is Negative')\n",
    "    \n",
    "    \n",
    "X0,X1,X2 = 0.1 , 0.5 , 0.2\n",
    "W0 = 0.4\n",
    "W1= 0.3\n",
    "W2=0.6\n",
    "\n",
    "Threshold = 0.5"
   ]
  },
  {
   "cell_type": "code",
   "execution_count": 12,
   "id": "ce56ee27",
   "metadata": {},
   "outputs": [],
   "source": [
    "from tkinter import *\n",
    "root = Tk()\n",
    "root.title('Preceptron')\n",
    "e0= Entry( root , width = 30,borderwidth=5,)\n",
    "e1= Entry( root , width = 30,borderwidth=5)\n",
    "e2= Entry( root , width = 30 ,borderwidth=5)\n",
    "\n",
    "e0.grid(row = 0 , column = 0)\n",
    "e1.grid(row = 2 , column = 0)\n",
    "e2.grid(row = 4 , column = 0)\n",
    "\n",
    "\n",
    "e0.insert(0,\"Enter X0 \")\n",
    "e1.insert(0,\"Enter X1 \")\n",
    "e2.insert(0,\"Enter X2 \")\n",
    "\n",
    "def out0 ():\n",
    "    global X0 \n",
    "    X0=e0.get()\n",
    "    e0.delete(0,END)\n",
    "    X0= float(X0)\n",
    "def out1 ():\n",
    "    global X1 \n",
    "    X1=e1.get()\n",
    "    e1.delete(0,END)\n",
    "    X1= float(X1)\n",
    "def out2 ():\n",
    "    global X2 \n",
    "    X2=e2.get()    \n",
    "    e2.delete(0,END)\n",
    "    X2= float(X2)\n",
    "\n",
    "myButton0= Button(root, text= \"        Enter        \" , command = out0)\n",
    "myButton1= Button(root, text= \"        Enter        \" , command = out1)\n",
    "myButton2= Button(root, text= \"        Enter        \" , command = out2)\n",
    "myButton0.grid(row=1, column = 0)\n",
    "myButton1.grid(row=3, column = 0)\n",
    "myButton2.grid(row=5, column = 0)\n",
    "root.mainloop()"
   ]
  },
  {
   "cell_type": "code",
   "execution_count": 13,
   "id": "3de66046",
   "metadata": {},
   "outputs": [
    {
     "name": "stdout",
     "output_type": "stream",
     "text": [
      "[0.8 0.4 0.6]\n"
     ]
    }
   ],
   "source": [
    "X = np.array([X0,X1,X2])\n",
    "W = np.array([W0,W1,W2])\n",
    "\n",
    "print (X)"
   ]
  },
  {
   "cell_type": "code",
   "execution_count": 14,
   "id": "f69f989e",
   "metadata": {},
   "outputs": [
    {
     "name": "stdout",
     "output_type": "stream",
     "text": [
      "0.8 , value is Postive\n"
     ]
    }
   ],
   "source": [
    "perceptron( X,W)"
   ]
  },
  {
   "cell_type": "code",
   "execution_count": null,
   "id": "2c5596e7",
   "metadata": {},
   "outputs": [],
   "source": []
  }
 ],
 "metadata": {
  "kernelspec": {
   "display_name": "Python 3 (ipykernel)",
   "language": "python",
   "name": "python3"
  },
  "language_info": {
   "codemirror_mode": {
    "name": "ipython",
    "version": 3
   },
   "file_extension": ".py",
   "mimetype": "text/x-python",
   "name": "python",
   "nbconvert_exporter": "python",
   "pygments_lexer": "ipython3",
   "version": "3.9.7"
  }
 },
 "nbformat": 4,
 "nbformat_minor": 5
}
